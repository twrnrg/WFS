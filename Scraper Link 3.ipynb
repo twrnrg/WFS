{
 "cells": [
  {
   "cell_type": "code",
   "execution_count": 2,
   "metadata": {},
   "outputs": [],
   "source": [
    "from time import sleep\n",
    "from random import randint\n",
    "from bs4 import BeautifulSoup\n",
    "import datetime\n",
    "import requests\n",
    "import pandas as pd"
   ]
  },
  {
   "cell_type": "code",
   "execution_count": 3,
   "metadata": {},
   "outputs": [],
   "source": [
    "def get_page_source(url):\n",
    "    agent = {\"User-Agent\":\"Mozilla/5.0\"} # User Agent defined to avoid robot detection\n",
    "    source=requests.get(url, headers=agent)\n",
    "    return source.text, source.status_code\n",
    "\n",
    "\n",
    "def get_clean_text(content):\n",
    "    raw_html=str(content)\n",
    "    text=(BeautifulSoup(raw_html, \"lxml\").text)\n",
    "    return text\n",
    "\n",
    "def get_soup(content):\n",
    "    soup=BeautifulSoup(content, \"lxml\")\n",
    "    return soup"
   ]
  },
  {
   "cell_type": "code",
   "execution_count": 4,
   "metadata": {},
   "outputs": [],
   "source": [
    "def get_data_from_table(url = \"https://www.globalbrandsmagazine.com/list-of-banks-by-country\"):\n",
    "    \n",
    "    text, status = get_page_source(url)\n",
    "    if status!= 200: # HTTP request Error encountered\n",
    "        return \"Error\"\n",
    "    soup = get_soup(text)\n",
    "    \n",
    "    divs= soup.findAll('div', attrs = {'class': \"theiaPostSlider_preloadedSlide\"})\n",
    "    data=list()\n",
    "    if not len(divs): # No Table\n",
    "        return data\n",
    "    else:\n",
    "        for div in divs: # If more than one table encountered\n",
    "            table = div.find('table')\n",
    "            rows = table.findAll(\"td\")\n",
    "            for row in rows:\n",
    "                if(len(row.findAll('strong'))): # Added specifically for parsing Country header\n",
    "                    country = row.text.strip()\n",
    "                    \n",
    "                else:\n",
    "                    raw = row.text.strip()\n",
    "                    # Change last line according to the information \n",
    "                    data.append({'Country' : country, 'Bank' : raw})\n",
    "        return data"
   ]
  },
  {
   "cell_type": "code",
   "execution_count": 5,
   "metadata": {},
   "outputs": [],
   "source": [
    "data = get_data_from_table()\n",
    "df = pd.DataFrame(data)"
   ]
  },
  {
   "cell_type": "code",
   "execution_count": 6,
   "metadata": {},
   "outputs": [
    {
     "data": {
      "text/html": [
       "<div>\n",
       "<style scoped>\n",
       "    .dataframe tbody tr th:only-of-type {\n",
       "        vertical-align: middle;\n",
       "    }\n",
       "\n",
       "    .dataframe tbody tr th {\n",
       "        vertical-align: top;\n",
       "    }\n",
       "\n",
       "    .dataframe thead th {\n",
       "        text-align: right;\n",
       "    }\n",
       "</style>\n",
       "<table border=\"1\" class=\"dataframe\">\n",
       "  <thead>\n",
       "    <tr style=\"text-align: right;\">\n",
       "      <th></th>\n",
       "      <th>Country</th>\n",
       "      <th>Bank</th>\n",
       "    </tr>\n",
       "  </thead>\n",
       "  <tbody>\n",
       "    <tr>\n",
       "      <th>0</th>\n",
       "      <td>Afghanistan</td>\n",
       "      <td>Afghanistan International Bank (Local Bank)</td>\n",
       "    </tr>\n",
       "    <tr>\n",
       "      <th>1</th>\n",
       "      <td>Afghanistan</td>\n",
       "      <td>Afghanistan Commercial Bank (Local Bank)</td>\n",
       "    </tr>\n",
       "    <tr>\n",
       "      <th>2</th>\n",
       "      <td>Afghanistan</td>\n",
       "      <td>Ghazanfar Bank (Local Bank)</td>\n",
       "    </tr>\n",
       "    <tr>\n",
       "      <th>3</th>\n",
       "      <td>Afghanistan</td>\n",
       "      <td>Maiwand Bank (Local Bank)</td>\n",
       "    </tr>\n",
       "    <tr>\n",
       "      <th>4</th>\n",
       "      <td>Afghanistan</td>\n",
       "      <td>Afghan United Bank (Local Bank)</td>\n",
       "    </tr>\n",
       "    <tr>\n",
       "      <th>...</th>\n",
       "      <td>...</td>\n",
       "      <td>...</td>\n",
       "    </tr>\n",
       "    <tr>\n",
       "      <th>4426</th>\n",
       "      <td>Zambia</td>\n",
       "      <td>Investrust Bank (Commercial Bank)</td>\n",
       "    </tr>\n",
       "    <tr>\n",
       "      <th>4427</th>\n",
       "      <td>Zambia</td>\n",
       "      <td>Stanbic Bank (Commercial Bank)</td>\n",
       "    </tr>\n",
       "    <tr>\n",
       "      <th>4428</th>\n",
       "      <td>Zambia</td>\n",
       "      <td>Standard Chartered Bank (Zambia) (Commercial B...</td>\n",
       "    </tr>\n",
       "    <tr>\n",
       "      <th>4429</th>\n",
       "      <td>Zambia</td>\n",
       "      <td>United Bank for Africa (Commercial Bank)</td>\n",
       "    </tr>\n",
       "    <tr>\n",
       "      <th>4430</th>\n",
       "      <td>Zambia</td>\n",
       "      <td>Zambia National Commercial Bank (Commercial Bank)</td>\n",
       "    </tr>\n",
       "  </tbody>\n",
       "</table>\n",
       "<p>4431 rows × 2 columns</p>\n",
       "</div>"
      ],
      "text/plain": [
       "          Country                                               Bank\n",
       "0     Afghanistan        Afghanistan International Bank (Local Bank)\n",
       "1     Afghanistan           Afghanistan Commercial Bank (Local Bank)\n",
       "2     Afghanistan                        Ghazanfar Bank (Local Bank)\n",
       "3     Afghanistan                          Maiwand Bank (Local Bank)\n",
       "4     Afghanistan                    Afghan United Bank (Local Bank)\n",
       "...           ...                                                ...\n",
       "4426       Zambia                  Investrust Bank (Commercial Bank)\n",
       "4427       Zambia                     Stanbic Bank (Commercial Bank)\n",
       "4428       Zambia  Standard Chartered Bank (Zambia) (Commercial B...\n",
       "4429       Zambia           United Bank for Africa (Commercial Bank)\n",
       "4430       Zambia  Zambia National Commercial Bank (Commercial Bank)\n",
       "\n",
       "[4431 rows x 2 columns]"
      ]
     },
     "execution_count": 6,
     "metadata": {},
     "output_type": "execute_result"
    }
   ],
   "source": [
    "df.to_csv(\"list_of_banks.csv\")\n",
    "df"
   ]
  },
  {
   "cell_type": "code",
   "execution_count": null,
   "metadata": {},
   "outputs": [],
   "source": []
  }
 ],
 "metadata": {
  "kernelspec": {
   "display_name": "Python 3",
   "language": "python",
   "name": "python3"
  },
  "language_info": {
   "codemirror_mode": {
    "name": "ipython",
    "version": 3
   },
   "file_extension": ".py",
   "mimetype": "text/x-python",
   "name": "python",
   "nbconvert_exporter": "python",
   "pygments_lexer": "ipython3",
   "version": "3.8.3"
  }
 },
 "nbformat": 4,
 "nbformat_minor": 4
}
