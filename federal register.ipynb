{
 "cells": [
  {
   "cell_type": "code",
   "execution_count": 1,
   "metadata": {},
   "outputs": [],
   "source": [
    "from bs4 import BeautifulSoup\n",
    "import requests\n",
    "import pandas as pd"
   ]
  },
  {
   "cell_type": "code",
   "execution_count": 2,
   "metadata": {},
   "outputs": [],
   "source": [
    "def get_page_source(url):\n",
    "    agent = {\"User-Agent\":\"Mozilla/5.0\"} # User Agent defined to avoid robot detection\n",
    "    source=requests.get(url, headers=agent)\n",
    "    return source.text, source.status_code\n",
    "\n",
    "def get_soup(content):\n",
    "    soup=BeautifulSoup(content, \"lxml\")\n",
    "    return soup"
   ]
  },
  {
   "cell_type": "code",
   "execution_count": 3,
   "metadata": {},
   "outputs": [],
   "source": [
    "url = \"https://www.federalregister.gov/documents/2019/02/01/2019-00897/indian-entities-recognized-by-and-eligible-to-receive-services-from-the-united-states-bureau-of\""
   ]
  },
  {
   "cell_type": "code",
   "execution_count": 4,
   "metadata": {},
   "outputs": [],
   "source": [
    "def final_data(url):\n",
    "    text, status = get_page_source(url)\n",
    "    soup = get_soup(text)\n",
    "    \n",
    "    div = soup.find('div', attrs = {'id' : 'fulltext_content_area'})\n",
    "    para_all = div.findAll('p', class_ = 'flush-paragraph')\n",
    "    \n",
    "    result = list()\n",
    "    for para in para_all:\n",
    "        result.append(para.text.strip())\n",
    "    \n",
    "    return pd.DataFrame(result, columns = ['Name of Org'])"
   ]
  },
  {
   "cell_type": "code",
   "execution_count": 5,
   "metadata": {},
   "outputs": [],
   "source": [
    "df = final_data(url)\n",
    "# df\n",
    "# Note: HANDLE PREVIOUSLY CALLED ______ "
   ]
  },
  {
   "cell_type": "code",
   "execution_count": 6,
   "metadata": {},
   "outputs": [],
   "source": [
    "df.to_csv(\"federal_register.csv\")"
   ]
  },
  {
   "cell_type": "code",
   "execution_count": null,
   "metadata": {},
   "outputs": [],
   "source": []
  }
 ],
 "metadata": {
  "kernelspec": {
   "display_name": "Python 3",
   "language": "python",
   "name": "python3"
  },
  "language_info": {
   "codemirror_mode": {
    "name": "ipython",
    "version": 3
   },
   "file_extension": ".py",
   "mimetype": "text/x-python",
   "name": "python",
   "nbconvert_exporter": "python",
   "pygments_lexer": "ipython3",
   "version": "3.8.3"
  }
 },
 "nbformat": 4,
 "nbformat_minor": 4
}
