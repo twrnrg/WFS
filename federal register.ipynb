{
 "cells": [
  {
   "cell_type": "code",
   "execution_count": 4,
   "metadata": {},
   "outputs": [],
   "source": [
    "from bs4 import BeautifulSoup\n",
    "import requests\n",
    "import pandas as pd"
   ]
  },
  {
   "cell_type": "code",
   "execution_count": 5,
   "metadata": {},
   "outputs": [],
   "source": [
    "def get_page_source(url):\n",
    "    agent = {\"User-Agent\":\"Mozilla/5.0\"} # User Agent defined to avoid robot detection\n",
    "    source=requests.get(url, headers=agent)\n",
    "    return source.text, source.status_code\n",
    "\n",
    "def get_soup(content):\n",
    "    soup=BeautifulSoup(content, \"lxml\")\n",
    "    return soup"
   ]
  },
  {
   "cell_type": "code",
   "execution_count": 3,
   "metadata": {},
   "outputs": [],
   "source": [
    "url = \"https://www.federalregister.gov/documents/2019/02/01/2019-00897/indian-entities-recognized-by-and-eligible-to-receive-services-from-the-united-states-bureau-of\""
   ]
  },
  {
   "cell_type": "code",
   "execution_count": 16,
   "metadata": {},
   "outputs": [],
   "source": [
    "def final_data(url):\n",
    "    text, status = get_page_source(url)\n",
    "    soup = get_soup(text)\n",
    "    \n",
    "    div = soup.find('div', attrs = {'id' : 'fulltext_content_area'})\n",
    "    para_all = div.findAll('p', class_ = 'flush-paragraph')\n",
    "    \n",
    "    result = list()\n",
    "    for para in para_all:\n",
    "        result.append(para.text.strip())\n",
    "    \n",
    "    return pd.DataFrame(result, columns = ['Name of Org'])"
   ]
  },
  {
   "cell_type": "code",
   "execution_count": 17,
   "metadata": {},
   "outputs": [],
   "source": [
    "df = final_data(url)\n",
    "# df\n",
    "# Note: HANDLE PREVIOUSLY CALLED ______ "
   ]
  },
  {
   "cell_type": "code",
   "execution_count": 18,
   "metadata": {},
   "outputs": [
    {
     "data": {
      "text/html": [
       "<div>\n",
       "<style scoped>\n",
       "    .dataframe tbody tr th:only-of-type {\n",
       "        vertical-align: middle;\n",
       "    }\n",
       "\n",
       "    .dataframe tbody tr th {\n",
       "        vertical-align: top;\n",
       "    }\n",
       "\n",
       "    .dataframe thead th {\n",
       "        text-align: right;\n",
       "    }\n",
       "</style>\n",
       "<table border=\"1\" class=\"dataframe\">\n",
       "  <thead>\n",
       "    <tr style=\"text-align: right;\">\n",
       "      <th></th>\n",
       "      <th>Name of Org</th>\n",
       "    </tr>\n",
       "  </thead>\n",
       "  <tbody>\n",
       "    <tr>\n",
       "      <th>0</th>\n",
       "      <td>Absentee-Shawnee Tribe of Indians of Oklahoma</td>\n",
       "    </tr>\n",
       "    <tr>\n",
       "      <th>1</th>\n",
       "      <td>Agua Caliente Band of Cahuilla Indians of the ...</td>\n",
       "    </tr>\n",
       "    <tr>\n",
       "      <th>2</th>\n",
       "      <td>Ak-Chin Indian Community (previously listed as...</td>\n",
       "    </tr>\n",
       "    <tr>\n",
       "      <th>3</th>\n",
       "      <td>Alabama-Coushatta Tribe of Texas (previously l...</td>\n",
       "    </tr>\n",
       "    <tr>\n",
       "      <th>4</th>\n",
       "      <td>Alabama-Quassarte Tribal Town</td>\n",
       "    </tr>\n",
       "    <tr>\n",
       "      <th>...</th>\n",
       "      <td>...</td>\n",
       "    </tr>\n",
       "    <tr>\n",
       "      <th>571</th>\n",
       "      <td>Village of Venetie (See Native Village of Vene...</td>\n",
       "    </tr>\n",
       "    <tr>\n",
       "      <th>572</th>\n",
       "      <td>Village of Wainwright</td>\n",
       "    </tr>\n",
       "    <tr>\n",
       "      <th>573</th>\n",
       "      <td>Wrangell Cooperative Association</td>\n",
       "    </tr>\n",
       "    <tr>\n",
       "      <th>574</th>\n",
       "      <td>Yakutat Tlingit Tribe</td>\n",
       "    </tr>\n",
       "    <tr>\n",
       "      <th>575</th>\n",
       "      <td>Yupiit of Andreafski</td>\n",
       "    </tr>\n",
       "  </tbody>\n",
       "</table>\n",
       "<p>576 rows × 1 columns</p>\n",
       "</div>"
      ],
      "text/plain": [
       "                                           Name of Org\n",
       "0        Absentee-Shawnee Tribe of Indians of Oklahoma\n",
       "1    Agua Caliente Band of Cahuilla Indians of the ...\n",
       "2    Ak-Chin Indian Community (previously listed as...\n",
       "3    Alabama-Coushatta Tribe of Texas (previously l...\n",
       "4                        Alabama-Quassarte Tribal Town\n",
       "..                                                 ...\n",
       "571  Village of Venetie (See Native Village of Vene...\n",
       "572                              Village of Wainwright\n",
       "573                   Wrangell Cooperative Association\n",
       "574                              Yakutat Tlingit Tribe\n",
       "575                               Yupiit of Andreafski\n",
       "\n",
       "[576 rows x 1 columns]"
      ]
     },
     "execution_count": 18,
     "metadata": {},
     "output_type": "execute_result"
    }
   ],
   "source": [
    "df"
   ]
  },
  {
   "cell_type": "code",
   "execution_count": null,
   "metadata": {},
   "outputs": [],
   "source": []
  }
 ],
 "metadata": {
  "kernelspec": {
   "display_name": "Python 3",
   "language": "python",
   "name": "python3"
  },
  "language_info": {
   "codemirror_mode": {
    "name": "ipython",
    "version": 3
   },
   "file_extension": ".py",
   "mimetype": "text/x-python",
   "name": "python",
   "nbconvert_exporter": "python",
   "pygments_lexer": "ipython3",
   "version": "3.8.3"
  }
 },
 "nbformat": 4,
 "nbformat_minor": 4
}
